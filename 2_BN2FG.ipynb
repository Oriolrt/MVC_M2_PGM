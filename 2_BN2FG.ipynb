{
  "nbformat": 4,
  "nbformat_minor": 0,
  "metadata": {
    "colab": {
      "provenance": [],
      "authorship_tag": "ABX9TyPj+l/zaeXvqwVTEnhjMoL0",
      "include_colab_link": true
    },
    "kernelspec": {
      "name": "python3",
      "display_name": "Python 3"
    },
    "language_info": {
      "name": "python"
    }
  },
  "cells": [
    {
      "cell_type": "markdown",
      "metadata": {
        "id": "view-in-github",
        "colab_type": "text"
      },
      "source": [
        "<a href=\"https://colab.research.google.com/github/Oriolrt/MVC_M2_PGM/blob/main/2_BN2FG.ipynb\" target=\"_parent\"><img src=\"https://colab.research.google.com/assets/colab-badge.svg\" alt=\"Open In Colab\"/></a>"
      ]
    },
    {
      "cell_type": "markdown",
      "source": [
        "#Conversion to a Factor Graph\n",
        "\n",
        "In this example we will show how to convert a Bayesian Network to a Factor graph using the pgmpy package (https://pgmpy.org/). As we can apply exact inference algorithms in both networks, we'll check that we obtain the same results in both models.\n",
        "\n",
        "First, we install the pgmpy package and import the needed classes and methods"
      ],
      "metadata": {
        "id": "FtWB66g-tg2H"
      }
    },
    {
      "cell_type": "code",
      "source": [
        "# @title\n",
        "!pip install pgmpy\n",
        "#!apt update\n",
        "#!apt install imagemagick\n",
        "#!apt install pdf2svg\n",
        "#!apt install texlive texlive-latex-extra\n",
        "#!pip install git+git://github.com/mkrphys/ipython-tikzmagic.git\n",
        "#%load_ext tikzmagic"
      ],
      "metadata": {
        "colab": {
          "base_uri": "https://localhost:8080/"
        },
        "id": "LjX1kuUCxyi5",
        "outputId": "26835e85-fff6-4c8c-bd26-d77b3dfc0651",
        "cellView": "form",
        "collapsed": true
      },
      "execution_count": null,
      "outputs": [
        {
          "output_type": "stream",
          "name": "stdout",
          "text": [
            "Collecting pgmpy\n",
            "  Downloading pgmpy-0.1.26-py3-none-any.whl.metadata (9.1 kB)\n",
            "Requirement already satisfied: networkx in /usr/local/lib/python3.10/dist-packages (from pgmpy) (3.4.2)\n",
            "Requirement already satisfied: numpy in /usr/local/lib/python3.10/dist-packages (from pgmpy) (1.26.4)\n",
            "Requirement already satisfied: scipy in /usr/local/lib/python3.10/dist-packages (from pgmpy) (1.13.1)\n",
            "Requirement already satisfied: scikit-learn in /usr/local/lib/python3.10/dist-packages (from pgmpy) (1.5.2)\n",
            "Requirement already satisfied: pandas in /usr/local/lib/python3.10/dist-packages (from pgmpy) (2.2.2)\n",
            "Requirement already satisfied: pyparsing in /usr/local/lib/python3.10/dist-packages (from pgmpy) (3.2.0)\n",
            "Requirement already satisfied: torch in /usr/local/lib/python3.10/dist-packages (from pgmpy) (2.5.0+cu121)\n",
            "Requirement already satisfied: statsmodels in /usr/local/lib/python3.10/dist-packages (from pgmpy) (0.14.4)\n",
            "Requirement already satisfied: tqdm in /usr/local/lib/python3.10/dist-packages (from pgmpy) (4.66.5)\n",
            "Requirement already satisfied: joblib in /usr/local/lib/python3.10/dist-packages (from pgmpy) (1.4.2)\n",
            "Requirement already satisfied: opt-einsum in /usr/local/lib/python3.10/dist-packages (from pgmpy) (3.4.0)\n",
            "Requirement already satisfied: xgboost in /usr/local/lib/python3.10/dist-packages (from pgmpy) (2.1.1)\n",
            "Requirement already satisfied: google-generativeai in /usr/local/lib/python3.10/dist-packages (from pgmpy) (0.8.3)\n",
            "Requirement already satisfied: google-ai-generativelanguage==0.6.10 in /usr/local/lib/python3.10/dist-packages (from google-generativeai->pgmpy) (0.6.10)\n",
            "Requirement already satisfied: google-api-core in /usr/local/lib/python3.10/dist-packages (from google-generativeai->pgmpy) (2.19.2)\n",
            "Requirement already satisfied: google-api-python-client in /usr/local/lib/python3.10/dist-packages (from google-generativeai->pgmpy) (2.137.0)\n",
            "Requirement already satisfied: google-auth>=2.15.0 in /usr/local/lib/python3.10/dist-packages (from google-generativeai->pgmpy) (2.27.0)\n",
            "Requirement already satisfied: protobuf in /usr/local/lib/python3.10/dist-packages (from google-generativeai->pgmpy) (3.20.3)\n",
            "Requirement already satisfied: pydantic in /usr/local/lib/python3.10/dist-packages (from google-generativeai->pgmpy) (2.9.2)\n",
            "Requirement already satisfied: typing-extensions in /usr/local/lib/python3.10/dist-packages (from google-generativeai->pgmpy) (4.12.2)\n",
            "Requirement already satisfied: proto-plus<2.0.0dev,>=1.22.3 in /usr/local/lib/python3.10/dist-packages (from google-ai-generativelanguage==0.6.10->google-generativeai->pgmpy) (1.24.0)\n",
            "Requirement already satisfied: python-dateutil>=2.8.2 in /usr/local/lib/python3.10/dist-packages (from pandas->pgmpy) (2.8.2)\n",
            "Requirement already satisfied: pytz>=2020.1 in /usr/local/lib/python3.10/dist-packages (from pandas->pgmpy) (2024.2)\n",
            "Requirement already satisfied: tzdata>=2022.7 in /usr/local/lib/python3.10/dist-packages (from pandas->pgmpy) (2024.2)\n",
            "Requirement already satisfied: threadpoolctl>=3.1.0 in /usr/local/lib/python3.10/dist-packages (from scikit-learn->pgmpy) (3.5.0)\n",
            "Requirement already satisfied: patsy>=0.5.6 in /usr/local/lib/python3.10/dist-packages (from statsmodels->pgmpy) (0.5.6)\n",
            "Requirement already satisfied: packaging>=21.3 in /usr/local/lib/python3.10/dist-packages (from statsmodels->pgmpy) (24.1)\n",
            "Requirement already satisfied: filelock in /usr/local/lib/python3.10/dist-packages (from torch->pgmpy) (3.16.1)\n",
            "Requirement already satisfied: jinja2 in /usr/local/lib/python3.10/dist-packages (from torch->pgmpy) (3.1.4)\n",
            "Requirement already satisfied: fsspec in /usr/local/lib/python3.10/dist-packages (from torch->pgmpy) (2024.6.1)\n",
            "Requirement already satisfied: sympy==1.13.1 in /usr/local/lib/python3.10/dist-packages (from torch->pgmpy) (1.13.1)\n",
            "Requirement already satisfied: mpmath<1.4,>=1.1.0 in /usr/local/lib/python3.10/dist-packages (from sympy==1.13.1->torch->pgmpy) (1.3.0)\n",
            "Requirement already satisfied: nvidia-nccl-cu12 in /usr/local/lib/python3.10/dist-packages (from xgboost->pgmpy) (2.23.4)\n",
            "Requirement already satisfied: googleapis-common-protos<2.0.dev0,>=1.56.2 in /usr/local/lib/python3.10/dist-packages (from google-api-core->google-generativeai->pgmpy) (1.65.0)\n",
            "Requirement already satisfied: requests<3.0.0.dev0,>=2.18.0 in /usr/local/lib/python3.10/dist-packages (from google-api-core->google-generativeai->pgmpy) (2.32.3)\n",
            "Requirement already satisfied: cachetools<6.0,>=2.0.0 in /usr/local/lib/python3.10/dist-packages (from google-auth>=2.15.0->google-generativeai->pgmpy) (5.5.0)\n",
            "Requirement already satisfied: pyasn1-modules>=0.2.1 in /usr/local/lib/python3.10/dist-packages (from google-auth>=2.15.0->google-generativeai->pgmpy) (0.4.1)\n",
            "Requirement already satisfied: rsa<5,>=3.1.4 in /usr/local/lib/python3.10/dist-packages (from google-auth>=2.15.0->google-generativeai->pgmpy) (4.9)\n",
            "Requirement already satisfied: six in /usr/local/lib/python3.10/dist-packages (from patsy>=0.5.6->statsmodels->pgmpy) (1.16.0)\n",
            "Requirement already satisfied: httplib2<1.dev0,>=0.19.0 in /usr/local/lib/python3.10/dist-packages (from google-api-python-client->google-generativeai->pgmpy) (0.22.0)\n",
            "Requirement already satisfied: google-auth-httplib2<1.0.0,>=0.2.0 in /usr/local/lib/python3.10/dist-packages (from google-api-python-client->google-generativeai->pgmpy) (0.2.0)\n",
            "Requirement already satisfied: uritemplate<5,>=3.0.1 in /usr/local/lib/python3.10/dist-packages (from google-api-python-client->google-generativeai->pgmpy) (4.1.1)\n",
            "Requirement already satisfied: MarkupSafe>=2.0 in /usr/local/lib/python3.10/dist-packages (from jinja2->torch->pgmpy) (3.0.2)\n",
            "Requirement already satisfied: annotated-types>=0.6.0 in /usr/local/lib/python3.10/dist-packages (from pydantic->google-generativeai->pgmpy) (0.7.0)\n",
            "Requirement already satisfied: pydantic-core==2.23.4 in /usr/local/lib/python3.10/dist-packages (from pydantic->google-generativeai->pgmpy) (2.23.4)\n",
            "Requirement already satisfied: grpcio<2.0dev,>=1.33.2 in /usr/local/lib/python3.10/dist-packages (from google-api-core[grpc]!=2.0.*,!=2.1.*,!=2.10.*,!=2.2.*,!=2.3.*,!=2.4.*,!=2.5.*,!=2.6.*,!=2.7.*,!=2.8.*,!=2.9.*,<3.0.0dev,>=1.34.1->google-ai-generativelanguage==0.6.10->google-generativeai->pgmpy) (1.64.1)\n",
            "Requirement already satisfied: grpcio-status<2.0.dev0,>=1.33.2 in /usr/local/lib/python3.10/dist-packages (from google-api-core[grpc]!=2.0.*,!=2.1.*,!=2.10.*,!=2.2.*,!=2.3.*,!=2.4.*,!=2.5.*,!=2.6.*,!=2.7.*,!=2.8.*,!=2.9.*,<3.0.0dev,>=1.34.1->google-ai-generativelanguage==0.6.10->google-generativeai->pgmpy) (1.48.2)\n",
            "Requirement already satisfied: pyasn1<0.7.0,>=0.4.6 in /usr/local/lib/python3.10/dist-packages (from pyasn1-modules>=0.2.1->google-auth>=2.15.0->google-generativeai->pgmpy) (0.6.1)\n",
            "Requirement already satisfied: charset-normalizer<4,>=2 in /usr/local/lib/python3.10/dist-packages (from requests<3.0.0.dev0,>=2.18.0->google-api-core->google-generativeai->pgmpy) (3.4.0)\n",
            "Requirement already satisfied: idna<4,>=2.5 in /usr/local/lib/python3.10/dist-packages (from requests<3.0.0.dev0,>=2.18.0->google-api-core->google-generativeai->pgmpy) (3.10)\n",
            "Requirement already satisfied: urllib3<3,>=1.21.1 in /usr/local/lib/python3.10/dist-packages (from requests<3.0.0.dev0,>=2.18.0->google-api-core->google-generativeai->pgmpy) (2.2.3)\n",
            "Requirement already satisfied: certifi>=2017.4.17 in /usr/local/lib/python3.10/dist-packages (from requests<3.0.0.dev0,>=2.18.0->google-api-core->google-generativeai->pgmpy) (2024.8.30)\n",
            "Downloading pgmpy-0.1.26-py3-none-any.whl (2.0 MB)\n",
            "\u001b[2K   \u001b[90m━━━━━━━━━━━━━━━━━━━━━━━━━━━━━━━━━━━━━━━━\u001b[0m \u001b[32m2.0/2.0 MB\u001b[0m \u001b[31m10.9 MB/s\u001b[0m eta \u001b[36m0:00:00\u001b[0m\n",
            "\u001b[?25hInstalling collected packages: pgmpy\n",
            "Successfully installed pgmpy-0.1.26\n"
          ]
        }
      ]
    },
    {
      "cell_type": "code",
      "source": [
        "# Importing Library\n",
        "from pgmpy.models import BayesianNetwork\n",
        "from pgmpy.inference import VariableElimination\n",
        "from pgmpy.metrics.bn_inference import BayesianModelProbability\n",
        "from pgmpy.inference import BeliefPropagation\n"
      ],
      "metadata": {
        "id": "P8dFHzBLk4k_"
      },
      "execution_count": null,
      "outputs": []
    },
    {
      "cell_type": "markdown",
      "source": [
        "The Bayesian network model is the one shown in the figure below:\n",
        "\n",
        "<img src='https://drive.google.com/uc?id=1VHH4MV8d150FQcwbzL9Maq-cwa6KGTOM' height='400' >\n",
        "\n",
        "The pgmpy code to built it is found in tyhe cell below:"
      ],
      "metadata": {
        "id": "KORHnIjGxr5Z"
      }
    },
    {
      "cell_type": "code",
      "source": [
        "# Defining network structure\n",
        "\n",
        "alarm_model = BayesianNetwork(\n",
        "    [\n",
        "        (\"Burglary\", \"Alarm\"),\n",
        "        (\"Earthquake\", \"Alarm\"),\n",
        "        (\"Alarm\", \"NeighborCalls\"),\n",
        "    ]\n",
        ")\n",
        "\n",
        "# Defining the parameters using CPT\n",
        "from pgmpy.factors.discrete import TabularCPD\n",
        "\n",
        "cpd_burglary = TabularCPD(\n",
        "    variable=\"Burglary\", variable_card=2, values=[[0.7], [0.3]]\n",
        ")\n",
        "cpd_earthquake = TabularCPD(\n",
        "    variable=\"Earthquake\", variable_card=2, values=[[0.9], [0.1]]\n",
        ")\n",
        "cpd_alarm = TabularCPD(\n",
        "    variable=\"Alarm\",\n",
        "    variable_card=2,\n",
        "    values=[[0.99, 0.1, 0.3, 0.01], [0.01, 0.9, 0.7, 0.99]],\n",
        "    evidence=[\"Burglary\", \"Earthquake\"],\n",
        "    evidence_card=[2, 2],\n",
        ")\n",
        "cpd_neighborcalls = TabularCPD(\n",
        "    variable=\"NeighborCalls\",\n",
        "    variable_card=2,\n",
        "    values=[[0.9, 0.2], [0.1, 0.8]],\n",
        "    evidence=[\"Alarm\"],\n",
        "    evidence_card=[2],\n",
        "    state_names={\"NeighborCalls\":[\"no\",\"yes\"],\"Alarm\":[False,True]},\n",
        ")\n",
        "\n",
        "# Associating the parameters with the model structure\n",
        "alarm_model.add_cpds(\n",
        "    cpd_burglary, cpd_earthquake, cpd_alarm, cpd_neighborcalls\n",
        ")"
      ],
      "metadata": {
        "id": "BLQbtE-HyNED"
      },
      "execution_count": null,
      "outputs": []
    },
    {
      "cell_type": "markdown",
      "source": [
        "The factor graph is defined\n",
        "\n",
        "\n",
        "To convert a BN to a Factor graph we have, first, to __marry__ all the parents of child nodes (__moralization step__). This step can easily be done as shown below"
      ],
      "metadata": {
        "id": "UaPZ-KZKxqIg"
      }
    },
    {
      "cell_type": "code",
      "source": [
        "from pgmpy.models import FactorGraph\n",
        "import numpy as np\n",
        "\n",
        "# Viewing nodes and edges of the model\n",
        "\n",
        "nodes =alarm_model.nodes()\n",
        "edges = np.array(alarm_model.edges())\n",
        "\n",
        "print('BN edges: \\n', edges)\n",
        "\n",
        "#Identifying the nodes to be married (Moralizing)\n",
        "#childs= np.unique(edges[:,1])\n",
        "#factor_nodes = []\n",
        "#for ch in childs:\n",
        "#  factor_nodes = factor_nodes + [list(edges[edges[:,1]==ch,0]) + [ch]]\n",
        "\n",
        "#print( factor_nodes)\n",
        "\n",
        "# Alternatively, in a more compacted way\n",
        "factor_nodes = [ list(edges[edges[:,1]==ch,0]) + [ch] for ch in np.unique(edges[:,1])]\n",
        "print('\\n factor nodes: \\n', factor_nodes)"
      ],
      "metadata": {
        "colab": {
          "base_uri": "https://localhost:8080/"
        },
        "id": "tSbe1fWu2vVF",
        "outputId": "19a15fd3-8596-45de-ee74-12bc226bf86c"
      },
      "execution_count": null,
      "outputs": [
        {
          "output_type": "stream",
          "name": "stdout",
          "text": [
            "BN edges: \n",
            " [['Burglary' 'Alarm']\n",
            " ['Alarm' 'NeighborCalls']\n",
            " ['Earthquake' 'Alarm']]\n",
            "\n",
            " factor nodes: \n",
            " [['Burglary', 'Earthquake', 'Alarm'], ['Alarm', 'NeighborCalls']]\n"
          ]
        }
      ]
    },
    {
      "cell_type": "markdown",
      "source": [
        "The __factor_nodes__ list shows that we will have 2 factor functions: $\\phi_1$ and $\\phi_2$. The scope of the first factor function $\\phi_1$ is given by variables: 'Burglary', 'Earthquake' and  'Alarm', while for $\\phi_2$ is given by variables: 'Alarm' and 'NeighborCalls'.\n",
        "\n",
        "Considering the CPDs in the BN model, the factor functions are:\n",
        "\\begin{align}\n",
        "\\phi_1 &= P(A|E,B)P(E)P(B) = P(\\text{'Alarm'}| \\text{'Earthquake'}, \\text{'Burglary'})P(\\text{'Earthquake'})P( \\text{'Burglary'}) \\\\\n",
        "\\phi_2 &= P(N|A) = P(\\text{'NeighborCalls'}| \\text{'Alarm'})\n",
        "\\end{align}\n",
        "\n",
        "which means that we have a factor of order 3 ($\\phi_1$) and a factor of order 2 ($\\phi_2$)."
      ],
      "metadata": {
        "id": "t7y-g34n2RTF"
      }
    },
    {
      "cell_type": "code",
      "source": [
        "for  cpd in alarm_model.get_cpds():\n",
        "  print(cpd)\n",
        "  print(cpd.cardinality)\n",
        "  print(cpd.values)"
      ],
      "metadata": {
        "colab": {
          "base_uri": "https://localhost:8080/"
        },
        "id": "vLn4-cjQ1_Nd",
        "outputId": "62f83af9-ddd4-458f-b93e-874481ab87f0"
      },
      "execution_count": null,
      "outputs": [
        {
          "output_type": "stream",
          "name": "stdout",
          "text": [
            "+-------------+-----+\n",
            "| Burglary(0) | 0.7 |\n",
            "+-------------+-----+\n",
            "| Burglary(1) | 0.3 |\n",
            "+-------------+-----+\n",
            "[2]\n",
            "[0.7 0.3]\n",
            "+---------------+-----+\n",
            "| Earthquake(0) | 0.9 |\n",
            "+---------------+-----+\n",
            "| Earthquake(1) | 0.1 |\n",
            "+---------------+-----+\n",
            "[2]\n",
            "[0.9 0.1]\n",
            "+------------+---------------+---------------+---------------+---------------+\n",
            "| Burglary   | Burglary(0)   | Burglary(0)   | Burglary(1)   | Burglary(1)   |\n",
            "+------------+---------------+---------------+---------------+---------------+\n",
            "| Earthquake | Earthquake(0) | Earthquake(1) | Earthquake(0) | Earthquake(1) |\n",
            "+------------+---------------+---------------+---------------+---------------+\n",
            "| Alarm(0)   | 0.99          | 0.1           | 0.3           | 0.01          |\n",
            "+------------+---------------+---------------+---------------+---------------+\n",
            "| Alarm(1)   | 0.01          | 0.9           | 0.7           | 0.99          |\n",
            "+------------+---------------+---------------+---------------+---------------+\n",
            "[2 2 2]\n",
            "[[[0.99 0.1 ]\n",
            "  [0.3  0.01]]\n",
            "\n",
            " [[0.01 0.9 ]\n",
            "  [0.7  0.99]]]\n",
            "+--------------------+--------------+-------------+\n",
            "| Alarm              | Alarm(False) | Alarm(True) |\n",
            "+--------------------+--------------+-------------+\n",
            "| NeighborCalls(no)  | 0.9          | 0.2         |\n",
            "+--------------------+--------------+-------------+\n",
            "| NeighborCalls(yes) | 0.1          | 0.8         |\n",
            "+--------------------+--------------+-------------+\n",
            "[2 2]\n",
            "[[0.9 0.2]\n",
            " [0.1 0.8]]\n"
          ]
        }
      ]
    },
    {
      "cell_type": "markdown",
      "source": [
        "Unfortunately, the __pgmpy__ package does not provide a way to multiply the CPD in a way we define factors $\\phi_1$ and $\\phi_2$ as defined above. However, we can build an equivalent *factor graph* structure in pgm that will allow to us to perform inference on it.\n",
        "\n",
        "The way to proceed is defining a factor function for each CPD as shown below. The loop iterates on the CPDs of the BN model. For each CPD of the BN we build a factor function with the same variables, cardinality, values and state_names and we add it to the factor graph. Then we add edges from variables to the factor (remember that a factor graph is a bivariate graph composed by factor functions and random variables)."
      ],
      "metadata": {
        "id": "pPE7T9zoo6YT"
      }
    },
    {
      "cell_type": "code",
      "source": [
        "from pgmpy.factors.discrete.CPD import DiscreteFactor\n",
        "G = FactorGraph()\n",
        "G.add_nodes_from(alarm_model.nodes())\n",
        "f_nodes = factor_nodes[0]\n",
        "for  cpd in alarm_model.get_cpds():\n",
        "  phi = DiscreteFactor(cpd.variables,cardinality=cpd.cardinality,values=cpd.values,state_names=cpd.state_names)\n",
        "  G.add_factors(phi)\n",
        "  G.add_edges_from([(v,phi) for v in cpd.variables])\n",
        "\n",
        "\n",
        "print(G)\n",
        "G.get_partition_function()"
      ],
      "metadata": {
        "colab": {
          "base_uri": "https://localhost:8080/"
        },
        "id": "cMcwS7KZ63mE",
        "outputId": "a62f2020-41a9-468c-a825-95e64535f11a"
      },
      "execution_count": null,
      "outputs": [
        {
          "output_type": "stream",
          "name": "stdout",
          "text": [
            "FactorGraph with 8 nodes and 7 edges\n"
          ]
        },
        {
          "output_type": "execute_result",
          "data": {
            "text/plain": [
              "1.0"
            ]
          },
          "metadata": {},
          "execution_count": 6
        }
      ]
    },
    {
      "cell_type": "markdown",
      "source": [
        "The 8 nodes of the factor graph correspond to the 4 CPDs and the 4 random variables. Moreover, as the joint distribution of the BN, and the factor graph, is given in both models by the CPDs, the __partition function__ is 1."
      ],
      "metadata": {
        "id": "Gq3PjsCZ7cHU"
      }
    },
    {
      "cell_type": "markdown",
      "source": [
        "# Inference on the Factor Graph\n",
        "\n",
        "pgmpy provides some inference algorithms for Bayesian networks and other Probabilistic graphical models"
      ],
      "metadata": {
        "id": "qNx7gC0H7yX2"
      }
    },
    {
      "cell_type": "code",
      "source": [
        "from pgmpy.inference import BeliefPropagation\n",
        "\n",
        "bp_infer = BeliefPropagation(G)\n",
        "bp_infer.get_cliques()\n",
        "\n",
        "bp_infer.calibrate()"
      ],
      "metadata": {
        "id": "9zu6SCRG-TIf"
      },
      "execution_count": null,
      "outputs": []
    },
    {
      "cell_type": "code",
      "source": [
        "q=bp_infer.query(variables=[\"Burglary\"], evidence={\"NeighborCalls\": \"yes\"})\n",
        "print(q)"
      ],
      "metadata": {
        "colab": {
          "base_uri": "https://localhost:8080/"
        },
        "id": "ggBzcD6z_LIp",
        "outputId": "7c3410ab-313a-4feb-cbbe-6885122f935f"
      },
      "execution_count": null,
      "outputs": [
        {
          "output_type": "stream",
          "name": "stdout",
          "text": [
            "+-------------+-----------------+\n",
            "| Burglary    |   phi(Burglary) |\n",
            "+=============+=================+\n",
            "| Burglary(0) |          0.3929 |\n",
            "+-------------+-----------------+\n",
            "| Burglary(1) |          0.6071 |\n",
            "+-------------+-----------------+\n"
          ]
        }
      ]
    },
    {
      "cell_type": "code",
      "source": [
        "q=bp_infer.map_query(variables=[\"Burglary\"], evidence={\"NeighborCalls\": \"yes\"}, show_progress=True)\n",
        "print(q)"
      ],
      "metadata": {
        "colab": {
          "base_uri": "https://localhost:8080/"
        },
        "id": "myyjG2It_O_X",
        "outputId": "8919bef8-f9b1-4037-997c-7e8f53048173"
      },
      "execution_count": null,
      "outputs": [
        {
          "output_type": "stream",
          "name": "stdout",
          "text": [
            "{'Burglary': 1}\n"
          ]
        }
      ]
    },
    {
      "cell_type": "markdown",
      "source": [
        "## A deeper look....\n",
        "\n",
        "The __BeliefPropagation__ class above converts Bayesian networks, factor graphs and othe PGMs to a junction tree needed to apply belief propagation.\n",
        "\n",
        "Below we can see the cliques obtained after building the junction trees of the BN model and its factor graph:"
      ],
      "metadata": {
        "id": "h6pJqLK0BSGU"
      }
    },
    {
      "cell_type": "code",
      "source": [
        "alarm_infer = BeliefPropagation(alarm_model)\n",
        "alarm_infer.get_cliques()\n"
      ],
      "metadata": {
        "colab": {
          "base_uri": "https://localhost:8080/"
        },
        "id": "elRqjOIDCsAC",
        "outputId": "cf51ef45-f207-45a1-c1bc-e3009f1e2a11"
      },
      "execution_count": null,
      "outputs": [
        {
          "output_type": "execute_result",
          "data": {
            "text/plain": [
              "NodeView((('Alarm', 'NeighborCalls'), ('Alarm', 'Burglary', 'Earthquake')))"
            ]
          },
          "metadata": {},
          "execution_count": 10
        }
      ]
    },
    {
      "cell_type": "code",
      "source": [
        "bp_infer = BeliefPropagation(G)\n",
        "bp_infer.get_cliques()\n"
      ],
      "metadata": {
        "colab": {
          "base_uri": "https://localhost:8080/"
        },
        "id": "CPsRitr-DXDm",
        "outputId": "2b5da0ca-9d23-4251-96df-acd8916d7d42"
      },
      "execution_count": null,
      "outputs": [
        {
          "output_type": "execute_result",
          "data": {
            "text/plain": [
              "NodeView((('Alarm', 'NeighborCalls'), ('Alarm', 'Burglary', 'Earthquake')))"
            ]
          },
          "metadata": {},
          "execution_count": 11
        }
      ]
    },
    {
      "cell_type": "markdown",
      "source": [
        "We can see that in both cases we obtain the same cliques, as expected.\n",
        "\n",
        "Below we get the clique beliefs obtained from the Factor Graph __G__ and the BN model after calibrating them."
      ],
      "metadata": {
        "id": "ycS9wqkQC8MG"
      }
    },
    {
      "cell_type": "code",
      "source": [
        "alarm_infer.calibrate()\n",
        "bp_infer.calibrate()\n",
        "\n",
        "cbn=alarm_infer.get_clique_beliefs()\n",
        "cb= bp_infer.get_clique_beliefs()\n",
        "print(cbn)\n",
        "print(cb)"
      ],
      "metadata": {
        "colab": {
          "base_uri": "https://localhost:8080/"
        },
        "id": "_tFD_-8mBRTz",
        "outputId": "41c58dde-ec1c-4973-dbad-5b3d70b612d2"
      },
      "execution_count": null,
      "outputs": [
        {
          "output_type": "stream",
          "name": "stdout",
          "text": [
            "{('Alarm', 'NeighborCalls'): <DiscreteFactor representing phi(NeighborCalls:2, Alarm:2) at 0x7d7bf59685b0>, ('Alarm', 'Burglary', 'Earthquake'): <DiscreteFactor representing phi(Burglary:2, Earthquake:2, Alarm:2) at 0x7d7bf596bd30>}\n",
            "{('Alarm', 'NeighborCalls'): <DiscreteFactor representing phi(NeighborCalls:2, Alarm:2) at 0x7d7bf596be50>, ('Alarm', 'Burglary', 'Earthquake'): <DiscreteFactor representing phi(Burglary:2, Earthquake:2, Alarm:2) at 0x7d7bf59690c0>}\n"
          ]
        }
      ]
    },
    {
      "cell_type": "markdown",
      "source": [
        "It can be seen the that in both cases we obtain exactly the same value"
      ],
      "metadata": {
        "id": "neHUGKpsChOT"
      }
    },
    {
      "cell_type": "code",
      "source": [
        "for var,cpds in cb.items():\n",
        "  print(var)\n",
        "  # print(cpds.values)\n",
        "  # print(cbn[var].values)\n",
        "  print(cpds.values - cbn[var].values)"
      ],
      "metadata": {
        "id": "_xWCHFHeyMSk",
        "colab": {
          "base_uri": "https://localhost:8080/"
        },
        "outputId": "ec301902-3d0c-4eda-83ae-3c619b1006e0"
      },
      "execution_count": null,
      "outputs": [
        {
          "output_type": "stream",
          "name": "stdout",
          "text": [
            "('Alarm', 'NeighborCalls')\n",
            "[[0. 0.]\n",
            " [0. 0.]]\n",
            "('Alarm', 'Burglary', 'Earthquake')\n",
            "[[[0. 0.]\n",
            "  [0. 0.]]\n",
            "\n",
            " [[0. 0.]\n",
            "  [0. 0.]]]\n"
          ]
        }
      ]
    },
    {
      "cell_type": "markdown",
      "source": [
        "## Exercise\n",
        "Compute the 3 order factor function $\\phi_1$ from the list of CPDs of the BN. Consider the lexical order to sort the variables"
      ],
      "metadata": {
        "id": "LUnXd87JEpMa"
      }
    },
    {
      "cell_type": "code",
      "source": [
        "\n",
        "# lexical order\n",
        "vars = ('Alarm', 'Burglary', 'Earthquake')\n",
        "\n",
        "# This means that Alarm will be dim=0, Burglary dim=1 and Earthquake dim=2\n",
        "\n",
        "# we have to reshape the CPDs values in a 3 dimensional numpy array according to the variables sorting defined above\n",
        "#cpd_burglary, cpd_earthquake, cpd_alarm,\n",
        "print(cpd_burglary.values)\n",
        "\n",
        "# TODO: Replace the line above by the numpy array of cpd_burglary.values with dimensions (1,2,1)\n",
        "B = np.ones((1,2,1))\n",
        "print(B)\n",
        "\n",
        "# TODO: Replace the line above by the numpy array of cpd_earthquake.values with dimensions (1,2,1)\n",
        "E = np.ones((1,1,2))\n",
        "print(B)\n",
        "\n",
        "# TODO\n",
        "# The cpd_alarm.values are given following the order that appear in the cpd_alarm.variables.\n",
        "# The order of the variables in cpd_alarm.variables must be compared to the order\n",
        "# in the vars dictionary. If both orders are note equal, the cpd_alarm.values dimensions must be permuted accordingly.\n",
        "\n",
        "ABE = np.ones((2,2,2))\n",
        "\n",
        "phi = ABE*B*E\n",
        "\n",
        "print(phi)\n"
      ],
      "metadata": {
        "colab": {
          "base_uri": "https://localhost:8080/"
        },
        "id": "2GXlEX9zFPY1",
        "outputId": "e02ab2a4-3be8-40c0-b89d-76bc7c93e059"
      },
      "execution_count": null,
      "outputs": [
        {
          "output_type": "stream",
          "name": "stdout",
          "text": [
            "[0.7 0.3]\n",
            "[[[1.]\n",
            "  [1.]]]\n",
            "[[[1.]\n",
            "  [1.]]]\n",
            "[[[1. 1.]\n",
            "  [1. 1.]]\n",
            "\n",
            " [[1. 1.]\n",
            "  [1. 1.]]]\n"
          ]
        }
      ]
    },
    {
      "cell_type": "markdown",
      "source": [
        "and we build a *new* version of the factor graph using the 3-order factor computed above"
      ],
      "metadata": {
        "id": "pNAIAmG1zoMk"
      }
    },
    {
      "cell_type": "code",
      "source": [
        "G1 = FactorGraph()\n",
        "G1.add_nodes_from(alarm_model.nodes())\n",
        "\n",
        "# phi_1 factor (Computed in the cell above)\n",
        "#TODO: uncomment the last line below and complete the constructor of the Discrete Factor\n",
        "# You must identify the following parameters:\n",
        "# - variables: the vars dictionary defined above.\n",
        "# - cardinality: the same than in the cpd_alarm\n",
        "# - values: the ones computed above\n",
        "# - state_names: the same than in the cpd_alarm\n",
        "#\n",
        "# phi = DiscreteFactor( )\n",
        "\n",
        "G1.add_factors(phi)\n",
        "G1.add_edges_from([(v,phi) for v in vars])\n",
        "\n",
        "\n",
        "# phi_2 factor = neighborcalls factor\n",
        "#TODO: uncomment the last line below and complete the constructor of the Discrete Factor.\n",
        "# As before you must identify the same parameters but in this case you can take the ones in cpd_neighborcalls\n",
        "#\n",
        "# phi = DiscreteFactor( )\n",
        "\n",
        "G1.add_factors(phi)\n",
        "G1.add_edges_from([(v,phi) for v in cpd_neighborcalls.variables])\n",
        "\n",
        "\n",
        "print(G1)\n",
        "G1.get_partition_function()"
      ],
      "metadata": {
        "colab": {
          "base_uri": "https://localhost:8080/",
          "height": 370
        },
        "id": "PDHztdbtzzX1",
        "outputId": "ccb7e85f-b8a0-4ca3-b15b-45c661f35387"
      },
      "execution_count": null,
      "outputs": [
        {
          "output_type": "error",
          "ename": "AttributeError",
          "evalue": "'numpy.ndarray' object has no attribute 'variables'",
          "traceback": [
            "\u001b[0;31m---------------------------------------------------------------------------\u001b[0m",
            "\u001b[0;31mAttributeError\u001b[0m                            Traceback (most recent call last)",
            "\u001b[0;32m<ipython-input-15-c9392ed20e7c>\u001b[0m in \u001b[0;36m<cell line: 13>\u001b[0;34m()\u001b[0m\n\u001b[1;32m     11\u001b[0m \u001b[0;31m# phi = DiscreteFactor( )\u001b[0m\u001b[0;34m\u001b[0m\u001b[0;34m\u001b[0m\u001b[0m\n\u001b[1;32m     12\u001b[0m \u001b[0;34m\u001b[0m\u001b[0m\n\u001b[0;32m---> 13\u001b[0;31m \u001b[0mG1\u001b[0m\u001b[0;34m.\u001b[0m\u001b[0madd_factors\u001b[0m\u001b[0;34m(\u001b[0m\u001b[0mphi\u001b[0m\u001b[0;34m)\u001b[0m\u001b[0;34m\u001b[0m\u001b[0;34m\u001b[0m\u001b[0m\n\u001b[0m\u001b[1;32m     14\u001b[0m \u001b[0mG1\u001b[0m\u001b[0;34m.\u001b[0m\u001b[0madd_edges_from\u001b[0m\u001b[0;34m(\u001b[0m\u001b[0;34m[\u001b[0m\u001b[0;34m(\u001b[0m\u001b[0mv\u001b[0m\u001b[0;34m,\u001b[0m\u001b[0mphi\u001b[0m\u001b[0;34m)\u001b[0m \u001b[0;32mfor\u001b[0m \u001b[0mv\u001b[0m \u001b[0;32min\u001b[0m \u001b[0mvars\u001b[0m\u001b[0;34m]\u001b[0m\u001b[0;34m)\u001b[0m\u001b[0;34m\u001b[0m\u001b[0;34m\u001b[0m\u001b[0m\n\u001b[1;32m     15\u001b[0m \u001b[0;34m\u001b[0m\u001b[0m\n",
            "\u001b[0;32m/usr/local/lib/python3.10/dist-packages/pgmpy/models/FactorGraph.py\u001b[0m in \u001b[0;36madd_factors\u001b[0;34m(self, replace, *factors)\u001b[0m\n\u001b[1;32m    116\u001b[0m         \"\"\"\n\u001b[1;32m    117\u001b[0m         \u001b[0;32mfor\u001b[0m \u001b[0mfactor\u001b[0m \u001b[0;32min\u001b[0m \u001b[0mfactors\u001b[0m\u001b[0;34m:\u001b[0m\u001b[0;34m\u001b[0m\u001b[0;34m\u001b[0m\u001b[0m\n\u001b[0;32m--> 118\u001b[0;31m             if set(factor.variables) - set(factor.variables).intersection(\n\u001b[0m\u001b[1;32m    119\u001b[0m                 \u001b[0mset\u001b[0m\u001b[0;34m(\u001b[0m\u001b[0mself\u001b[0m\u001b[0;34m.\u001b[0m\u001b[0mnodes\u001b[0m\u001b[0;34m(\u001b[0m\u001b[0;34m)\u001b[0m\u001b[0;34m)\u001b[0m\u001b[0;34m\u001b[0m\u001b[0;34m\u001b[0m\u001b[0m\n\u001b[1;32m    120\u001b[0m             ):\n",
            "\u001b[0;31mAttributeError\u001b[0m: 'numpy.ndarray' object has no attribute 'variables'"
          ]
        }
      ]
    },
    {
      "cell_type": "markdown",
      "source": [
        "We build a new BeliefProgation object and infer the P( Burglary | NeighborCalls= \"yes\" ) to compare with the previous results"
      ],
      "metadata": {
        "id": "Stwkdyi-Wi31"
      }
    },
    {
      "cell_type": "code",
      "source": [
        "bp1_infer = BeliefPropagation(G1)\n",
        "bp1_infer.get_cliques()\n",
        "\n",
        "bp1_infer.calibrate()\n",
        "q1=bp1_infer.query(variables=[\"Burglary\"], evidence={\"NeighborCalls\": \"yes\"})\n",
        "print(q1)"
      ],
      "metadata": {
        "id": "qkhv8KIC35x2"
      },
      "execution_count": null,
      "outputs": []
    }
  ]
}