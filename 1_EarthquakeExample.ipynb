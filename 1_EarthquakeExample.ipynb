{
  "nbformat": 4,
  "nbformat_minor": 0,
  "metadata": {
    "colab": {
      "provenance": [],
      "authorship_tag": "ABX9TyOdw2eHEqmW6r7WJPdAFgEP",
      "include_colab_link": true
    },
    "kernelspec": {
      "name": "python3",
      "display_name": "Python 3"
    },
    "language_info": {
      "name": "python"
    }
  },
  "cells": [
    {
      "cell_type": "markdown",
      "metadata": {
        "id": "view-in-github",
        "colab_type": "text"
      },
      "source": [
        "<a href=\"https://colab.research.google.com/github/Oriolrt/MVC_M2_PGM/blob/main/1_EarthquakeExample.ipynb\" target=\"_parent\"><img src=\"https://colab.research.google.com/assets/colab-badge.svg\" alt=\"Open In Colab\"/></a>"
      ]
    },
    {
      "cell_type": "markdown",
      "source": [
        "# Example Using the Earthquake network\n",
        "In this example I will try to create the Alarm Bayesian Network using pgmpy and do some simple queries on the network. This network is mentioned in Bayesian Artificial Intelligence - Section 2.5.1 (https://bayesian-intelligence.com/publications/bai/book/BAI_Chapter2.pdf).\n",
        "The actual model in this notebook and the CPD tables are the ones used in C2 of the Master of Computer Vision given by the Universitat Autònoma de Barcelona (UAB).\n",
        "\n",
        "In this notebook we will play with the [PGM](https://pgmpy.org/) package. The full documentation is found in the [link](https://pgmpy.org/)."
      ],
      "metadata": {
        "id": "S_J9nVoemUdZ"
      }
    },
    {
      "cell_type": "code",
      "source": [
        "!pip install pgmpy"
      ],
      "metadata": {
        "colab": {
          "base_uri": "https://localhost:8080/"
        },
        "id": "TiX-wQmDm1E-",
        "outputId": "b3ce127a-cd2e-4952-a400-23fe3d50788b",
        "collapsed": true
      },
      "execution_count": null,
      "outputs": [
        {
          "output_type": "stream",
          "name": "stdout",
          "text": [
            "Collecting pgmpy\n",
            "  Downloading pgmpy-0.1.26-py3-none-any.whl.metadata (9.1 kB)\n",
            "Requirement already satisfied: networkx in /usr/local/lib/python3.10/dist-packages (from pgmpy) (3.4.2)\n",
            "Requirement already satisfied: numpy in /usr/local/lib/python3.10/dist-packages (from pgmpy) (1.26.4)\n",
            "Requirement already satisfied: scipy in /usr/local/lib/python3.10/dist-packages (from pgmpy) (1.13.1)\n",
            "Requirement already satisfied: scikit-learn in /usr/local/lib/python3.10/dist-packages (from pgmpy) (1.5.2)\n",
            "Requirement already satisfied: pandas in /usr/local/lib/python3.10/dist-packages (from pgmpy) (2.2.2)\n",
            "Requirement already satisfied: pyparsing in /usr/local/lib/python3.10/dist-packages (from pgmpy) (3.2.0)\n",
            "Requirement already satisfied: torch in /usr/local/lib/python3.10/dist-packages (from pgmpy) (2.5.0+cu121)\n",
            "Requirement already satisfied: statsmodels in /usr/local/lib/python3.10/dist-packages (from pgmpy) (0.14.4)\n",
            "Requirement already satisfied: tqdm in /usr/local/lib/python3.10/dist-packages (from pgmpy) (4.66.5)\n",
            "Requirement already satisfied: joblib in /usr/local/lib/python3.10/dist-packages (from pgmpy) (1.4.2)\n",
            "Requirement already satisfied: opt-einsum in /usr/local/lib/python3.10/dist-packages (from pgmpy) (3.4.0)\n",
            "Requirement already satisfied: xgboost in /usr/local/lib/python3.10/dist-packages (from pgmpy) (2.1.1)\n",
            "Requirement already satisfied: google-generativeai in /usr/local/lib/python3.10/dist-packages (from pgmpy) (0.8.3)\n",
            "Requirement already satisfied: google-ai-generativelanguage==0.6.10 in /usr/local/lib/python3.10/dist-packages (from google-generativeai->pgmpy) (0.6.10)\n",
            "Requirement already satisfied: google-api-core in /usr/local/lib/python3.10/dist-packages (from google-generativeai->pgmpy) (2.19.2)\n",
            "Requirement already satisfied: google-api-python-client in /usr/local/lib/python3.10/dist-packages (from google-generativeai->pgmpy) (2.137.0)\n",
            "Requirement already satisfied: google-auth>=2.15.0 in /usr/local/lib/python3.10/dist-packages (from google-generativeai->pgmpy) (2.27.0)\n",
            "Requirement already satisfied: protobuf in /usr/local/lib/python3.10/dist-packages (from google-generativeai->pgmpy) (3.20.3)\n",
            "Requirement already satisfied: pydantic in /usr/local/lib/python3.10/dist-packages (from google-generativeai->pgmpy) (2.9.2)\n",
            "Requirement already satisfied: typing-extensions in /usr/local/lib/python3.10/dist-packages (from google-generativeai->pgmpy) (4.12.2)\n",
            "Requirement already satisfied: proto-plus<2.0.0dev,>=1.22.3 in /usr/local/lib/python3.10/dist-packages (from google-ai-generativelanguage==0.6.10->google-generativeai->pgmpy) (1.24.0)\n",
            "Requirement already satisfied: python-dateutil>=2.8.2 in /usr/local/lib/python3.10/dist-packages (from pandas->pgmpy) (2.8.2)\n",
            "Requirement already satisfied: pytz>=2020.1 in /usr/local/lib/python3.10/dist-packages (from pandas->pgmpy) (2024.2)\n",
            "Requirement already satisfied: tzdata>=2022.7 in /usr/local/lib/python3.10/dist-packages (from pandas->pgmpy) (2024.2)\n",
            "Requirement already satisfied: threadpoolctl>=3.1.0 in /usr/local/lib/python3.10/dist-packages (from scikit-learn->pgmpy) (3.5.0)\n",
            "Requirement already satisfied: patsy>=0.5.6 in /usr/local/lib/python3.10/dist-packages (from statsmodels->pgmpy) (0.5.6)\n",
            "Requirement already satisfied: packaging>=21.3 in /usr/local/lib/python3.10/dist-packages (from statsmodels->pgmpy) (24.1)\n",
            "Requirement already satisfied: filelock in /usr/local/lib/python3.10/dist-packages (from torch->pgmpy) (3.16.1)\n",
            "Requirement already satisfied: jinja2 in /usr/local/lib/python3.10/dist-packages (from torch->pgmpy) (3.1.4)\n",
            "Requirement already satisfied: fsspec in /usr/local/lib/python3.10/dist-packages (from torch->pgmpy) (2024.6.1)\n",
            "Requirement already satisfied: sympy==1.13.1 in /usr/local/lib/python3.10/dist-packages (from torch->pgmpy) (1.13.1)\n",
            "Requirement already satisfied: mpmath<1.4,>=1.1.0 in /usr/local/lib/python3.10/dist-packages (from sympy==1.13.1->torch->pgmpy) (1.3.0)\n",
            "Requirement already satisfied: nvidia-nccl-cu12 in /usr/local/lib/python3.10/dist-packages (from xgboost->pgmpy) (2.23.4)\n",
            "Requirement already satisfied: googleapis-common-protos<2.0.dev0,>=1.56.2 in /usr/local/lib/python3.10/dist-packages (from google-api-core->google-generativeai->pgmpy) (1.65.0)\n",
            "Requirement already satisfied: requests<3.0.0.dev0,>=2.18.0 in /usr/local/lib/python3.10/dist-packages (from google-api-core->google-generativeai->pgmpy) (2.32.3)\n",
            "Requirement already satisfied: cachetools<6.0,>=2.0.0 in /usr/local/lib/python3.10/dist-packages (from google-auth>=2.15.0->google-generativeai->pgmpy) (5.5.0)\n",
            "Requirement already satisfied: pyasn1-modules>=0.2.1 in /usr/local/lib/python3.10/dist-packages (from google-auth>=2.15.0->google-generativeai->pgmpy) (0.4.1)\n",
            "Requirement already satisfied: rsa<5,>=3.1.4 in /usr/local/lib/python3.10/dist-packages (from google-auth>=2.15.0->google-generativeai->pgmpy) (4.9)\n",
            "Requirement already satisfied: six in /usr/local/lib/python3.10/dist-packages (from patsy>=0.5.6->statsmodels->pgmpy) (1.16.0)\n",
            "Requirement already satisfied: httplib2<1.dev0,>=0.19.0 in /usr/local/lib/python3.10/dist-packages (from google-api-python-client->google-generativeai->pgmpy) (0.22.0)\n",
            "Requirement already satisfied: google-auth-httplib2<1.0.0,>=0.2.0 in /usr/local/lib/python3.10/dist-packages (from google-api-python-client->google-generativeai->pgmpy) (0.2.0)\n",
            "Requirement already satisfied: uritemplate<5,>=3.0.1 in /usr/local/lib/python3.10/dist-packages (from google-api-python-client->google-generativeai->pgmpy) (4.1.1)\n",
            "Requirement already satisfied: MarkupSafe>=2.0 in /usr/local/lib/python3.10/dist-packages (from jinja2->torch->pgmpy) (3.0.2)\n",
            "Requirement already satisfied: annotated-types>=0.6.0 in /usr/local/lib/python3.10/dist-packages (from pydantic->google-generativeai->pgmpy) (0.7.0)\n",
            "Requirement already satisfied: pydantic-core==2.23.4 in /usr/local/lib/python3.10/dist-packages (from pydantic->google-generativeai->pgmpy) (2.23.4)\n",
            "Requirement already satisfied: grpcio<2.0dev,>=1.33.2 in /usr/local/lib/python3.10/dist-packages (from google-api-core[grpc]!=2.0.*,!=2.1.*,!=2.10.*,!=2.2.*,!=2.3.*,!=2.4.*,!=2.5.*,!=2.6.*,!=2.7.*,!=2.8.*,!=2.9.*,<3.0.0dev,>=1.34.1->google-ai-generativelanguage==0.6.10->google-generativeai->pgmpy) (1.64.1)\n",
            "Requirement already satisfied: grpcio-status<2.0.dev0,>=1.33.2 in /usr/local/lib/python3.10/dist-packages (from google-api-core[grpc]!=2.0.*,!=2.1.*,!=2.10.*,!=2.2.*,!=2.3.*,!=2.4.*,!=2.5.*,!=2.6.*,!=2.7.*,!=2.8.*,!=2.9.*,<3.0.0dev,>=1.34.1->google-ai-generativelanguage==0.6.10->google-generativeai->pgmpy) (1.48.2)\n",
            "Requirement already satisfied: pyasn1<0.7.0,>=0.4.6 in /usr/local/lib/python3.10/dist-packages (from pyasn1-modules>=0.2.1->google-auth>=2.15.0->google-generativeai->pgmpy) (0.6.1)\n",
            "Requirement already satisfied: charset-normalizer<4,>=2 in /usr/local/lib/python3.10/dist-packages (from requests<3.0.0.dev0,>=2.18.0->google-api-core->google-generativeai->pgmpy) (3.4.0)\n",
            "Requirement already satisfied: idna<4,>=2.5 in /usr/local/lib/python3.10/dist-packages (from requests<3.0.0.dev0,>=2.18.0->google-api-core->google-generativeai->pgmpy) (3.10)\n",
            "Requirement already satisfied: urllib3<3,>=1.21.1 in /usr/local/lib/python3.10/dist-packages (from requests<3.0.0.dev0,>=2.18.0->google-api-core->google-generativeai->pgmpy) (2.2.3)\n",
            "Requirement already satisfied: certifi>=2017.4.17 in /usr/local/lib/python3.10/dist-packages (from requests<3.0.0.dev0,>=2.18.0->google-api-core->google-generativeai->pgmpy) (2024.8.30)\n",
            "Downloading pgmpy-0.1.26-py3-none-any.whl (2.0 MB)\n",
            "\u001b[2K   \u001b[90m━━━━━━━━━━━━━━━━━━━━━━━━━━━━━━━━━━━━━━━━\u001b[0m \u001b[32m2.0/2.0 MB\u001b[0m \u001b[31m12.2 MB/s\u001b[0m eta \u001b[36m0:00:00\u001b[0m\n",
            "\u001b[?25hInstalling collected packages: pgmpy\n",
            "Successfully installed pgmpy-0.1.26\n"
          ]
        }
      ]
    },
    {
      "cell_type": "code",
      "execution_count": null,
      "metadata": {
        "id": "5FBJX893mT6F"
      },
      "outputs": [],
      "source": [
        "# Importing Library\n",
        "from pgmpy.models import BayesianNetwork\n",
        "from pgmpy.inference import VariableElimination\n",
        "from pgmpy.metrics.bn_inference import BayesianModelProbability\n",
        "from pgmpy.inference import BeliefPropagation\n"
      ]
    },
    {
      "cell_type": "markdown",
      "source": [
        "The Bayesian network model is the one shown in the figure below:\n",
        "\n",
        "<img src='https://drive.google.com/uc?id=1VHH4MV8d150FQcwbzL9Maq-cwa6KGTOM' height='400' >\n",
        "\n",
        "The pgmpy code to built it is found in tyhe cell below:"
      ],
      "metadata": {
        "id": "IZRVZ0MD9FIi"
      }
    },
    {
      "cell_type": "code",
      "source": [
        "# Defining network structure\n",
        "\n",
        "alarm_model = BayesianNetwork(\n",
        "    [\n",
        "        (\"Burglary\", \"Alarm\"),\n",
        "        (\"Earthquake\", \"Alarm\"),\n",
        "        (\"Alarm\", \"NeighborCalls\"),\n",
        "    ]\n",
        ")\n",
        "\n",
        "# Defining the parameters using CPT\n",
        "from pgmpy.factors.discrete import TabularCPD\n",
        "\n",
        "cpd_burglary = TabularCPD(\n",
        "    variable=\"Burglary\", variable_card=2, values=[[0.7], [0.3]]\n",
        ")\n",
        "cpd_earthquake = TabularCPD(\n",
        "    variable=\"Earthquake\", variable_card=2, values=[[0.9], [0.1]]\n",
        ")\n",
        "cpd_alarm = TabularCPD(\n",
        "    variable=\"Alarm\",\n",
        "    variable_card=2,\n",
        "    values=[[0.99, 0.1, 0.3, 0.01], [0.01, 0.9, 0.7, 0.99]],\n",
        "    evidence=[\"Burglary\", \"Earthquake\"],\n",
        "    evidence_card=[2, 2],\n",
        ")\n",
        "cpd_neighborcalls = TabularCPD(\n",
        "    variable=\"NeighborCalls\",\n",
        "    variable_card=2,\n",
        "    values=[[0.9, 0.2], [0.1, 0.8]],\n",
        "    evidence=[\"Alarm\"],\n",
        "    evidence_card=[2],\n",
        "    state_names={\"NeighborCalls\":[\"no\",\"yes\"],\"Alarm\":[False,True]},\n",
        ")\n",
        "\n",
        "# Associating the parameters with the model structure\n",
        "alarm_model.add_cpds(\n",
        "    cpd_burglary, cpd_earthquake, cpd_alarm, cpd_neighborcalls\n",
        ")"
      ],
      "metadata": {
        "id": "5vnplPrHmgCj"
      },
      "execution_count": null,
      "outputs": []
    },
    {
      "cell_type": "code",
      "source": [
        "print(cpd_earthquake)\n",
        "print(cpd_burglary)\n",
        "print(cpd_alarm)\n",
        "print(cpd_neighborcalls)\n",
        "\n"
      ],
      "metadata": {
        "colab": {
          "base_uri": "https://localhost:8080/"
        },
        "id": "2hQNJsP2FkOZ",
        "outputId": "085c99eb-12cf-4a8f-dfe3-ba4cfddb1e96"
      },
      "execution_count": null,
      "outputs": [
        {
          "output_type": "stream",
          "name": "stdout",
          "text": [
            "+---------------+-----+\n",
            "| Earthquake(0) | 0.9 |\n",
            "+---------------+-----+\n",
            "| Earthquake(1) | 0.1 |\n",
            "+---------------+-----+\n",
            "+-------------+-----+\n",
            "| Burglary(0) | 0.7 |\n",
            "+-------------+-----+\n",
            "| Burglary(1) | 0.3 |\n",
            "+-------------+-----+\n",
            "+------------+---------------+---------------+---------------+---------------+\n",
            "| Burglary   | Burglary(0)   | Burglary(0)   | Burglary(1)   | Burglary(1)   |\n",
            "+------------+---------------+---------------+---------------+---------------+\n",
            "| Earthquake | Earthquake(0) | Earthquake(1) | Earthquake(0) | Earthquake(1) |\n",
            "+------------+---------------+---------------+---------------+---------------+\n",
            "| Alarm(0)   | 0.99          | 0.1           | 0.3           | 0.01          |\n",
            "+------------+---------------+---------------+---------------+---------------+\n",
            "| Alarm(1)   | 0.01          | 0.9           | 0.7           | 0.99          |\n",
            "+------------+---------------+---------------+---------------+---------------+\n",
            "+--------------------+--------------+-------------+\n",
            "| Alarm              | Alarm(False) | Alarm(True) |\n",
            "+--------------------+--------------+-------------+\n",
            "| NeighborCalls(no)  | 0.9          | 0.2         |\n",
            "+--------------------+--------------+-------------+\n",
            "| NeighborCalls(yes) | 0.1          | 0.8         |\n",
            "+--------------------+--------------+-------------+\n"
          ]
        }
      ]
    },
    {
      "cell_type": "code",
      "source": [
        "# Checking if the cpds are valid for the model\n",
        "alarm_model.check_model()\n",
        "\n"
      ],
      "metadata": {
        "colab": {
          "base_uri": "https://localhost:8080/"
        },
        "id": "bsRFHtr3mkmx",
        "outputId": "6c2ab9fb-2cae-4aa1-a92c-34a0763ea810"
      },
      "execution_count": null,
      "outputs": [
        {
          "output_type": "execute_result",
          "data": {
            "text/plain": [
              "True"
            ]
          },
          "metadata": {},
          "execution_count": 5
        }
      ]
    },
    {
      "cell_type": "code",
      "source": [
        "# Viewing nodes of the model\n",
        "alarm_model.nodes()\n",
        "\n"
      ],
      "metadata": {
        "colab": {
          "base_uri": "https://localhost:8080/"
        },
        "id": "03_OCaZlmmqE",
        "outputId": "cb41934d-b71d-4a92-8409-69a31832039b"
      },
      "execution_count": null,
      "outputs": [
        {
          "output_type": "execute_result",
          "data": {
            "text/plain": [
              "NodeView(('Burglary', 'Alarm', 'Earthquake', 'NeighborCalls'))"
            ]
          },
          "metadata": {},
          "execution_count": 6
        }
      ]
    },
    {
      "cell_type": "code",
      "source": [
        "# Viewing edges of the model\n",
        "alarm_model.edges()\n",
        "\n"
      ],
      "metadata": {
        "colab": {
          "base_uri": "https://localhost:8080/"
        },
        "id": "mSQQWbIvmoUd",
        "outputId": "315febaf-1a9d-4520-d2ca-f8d62d9d95a4"
      },
      "execution_count": null,
      "outputs": [
        {
          "output_type": "execute_result",
          "data": {
            "text/plain": [
              "OutEdgeView([('Burglary', 'Alarm'), ('Alarm', 'NeighborCalls'), ('Earthquake', 'Alarm')])"
            ]
          },
          "metadata": {},
          "execution_count": 7
        }
      ]
    },
    {
      "cell_type": "code",
      "source": [
        "# Checking independcies of a node\n",
        "alarm_model.local_independencies(\"Burglary\")"
      ],
      "metadata": {
        "colab": {
          "base_uri": "https://localhost:8080/"
        },
        "id": "C3bpjWCXmqOu",
        "outputId": "ce71a18c-98c9-408a-ca95-f41daa6223a5"
      },
      "execution_count": null,
      "outputs": [
        {
          "output_type": "execute_result",
          "data": {
            "text/plain": [
              "(Burglary ⟂ Earthquake)"
            ]
          },
          "metadata": {},
          "execution_count": 8
        }
      ]
    },
    {
      "cell_type": "code",
      "source": [
        "# Listing all Independencies\n",
        "alarm_model.get_independencies()\n",
        "\n"
      ],
      "metadata": {
        "colab": {
          "base_uri": "https://localhost:8080/"
        },
        "id": "ck25TPTmmsY8",
        "outputId": "21ebeef5-82c7-440d-e759-d3c23bbe629f"
      },
      "execution_count": null,
      "outputs": [
        {
          "output_type": "execute_result",
          "data": {
            "text/plain": [
              "(NeighborCalls ⟂ Burglary, Earthquake | Alarm)\n",
              "(NeighborCalls ⟂ Burglary | Alarm, Earthquake)\n",
              "(NeighborCalls ⟂ Earthquake | Burglary, Alarm)\n",
              "(Earthquake ⟂ Burglary)\n",
              "(Earthquake ⟂ NeighborCalls | Alarm)\n",
              "(Earthquake ⟂ NeighborCalls | Burglary, Alarm)\n",
              "(Burglary ⟂ Earthquake)\n",
              "(Burglary ⟂ NeighborCalls | Alarm)\n",
              "(Burglary ⟂ NeighborCalls | Alarm, Earthquake)"
            ]
          },
          "metadata": {},
          "execution_count": 9
        }
      ]
    },
    {
      "cell_type": "code",
      "source": [
        "alarm_model.get_cpds()\n"
      ],
      "metadata": {
        "colab": {
          "base_uri": "https://localhost:8080/"
        },
        "id": "gu1xggjRnoVR",
        "outputId": "c7edf3f9-d74b-4212-cb7f-16e10f4034ad"
      },
      "execution_count": null,
      "outputs": [
        {
          "output_type": "execute_result",
          "data": {
            "text/plain": [
              "[<TabularCPD representing P(Burglary:2) at 0x78a10a9c8670>,\n",
              " <TabularCPD representing P(Earthquake:2) at 0x78a1db9bc070>,\n",
              " <TabularCPD representing P(Alarm:2 | Burglary:2, Earthquake:2) at 0x78a1e8e73460>,\n",
              " <TabularCPD representing P(NeighborCalls:2 | Alarm:2) at 0x78a1e8e72d40>]"
            ]
          },
          "metadata": {},
          "execution_count": 10
        }
      ]
    },
    {
      "cell_type": "code",
      "source": [
        "from pgmpy.inference import VariableElimination\n",
        "\n",
        "alarm_infer = VariableElimination(alarm_model)"
      ],
      "metadata": {
        "id": "gc4zL-4Kopih"
      },
      "execution_count": null,
      "outputs": []
    },
    {
      "cell_type": "code",
      "source": [
        "# Computing the joint probability of a Burglary and NeighborCalls.\n",
        "q=alarm_infer.query(variables=[\"Burglary\",\"NeighborCalls\"])\n",
        "print(q)"
      ],
      "metadata": {
        "colab": {
          "base_uri": "https://localhost:8080/"
        },
        "id": "Tstu7lKFKGYc",
        "outputId": "203bd5c4-d102-4f8e-89f8-e52363b5c7d4"
      },
      "execution_count": null,
      "outputs": [
        {
          "output_type": "stream",
          "name": "stdout",
          "text": [
            "+-------------+--------------------+-------------------------------+\n",
            "| Burglary    | NeighborCalls      |   phi(Burglary,NeighborCalls) |\n",
            "+=============+====================+===============================+\n",
            "| Burglary(0) | NeighborCalls(no)  |                        0.5815 |\n",
            "+-------------+--------------------+-------------------------------+\n",
            "| Burglary(0) | NeighborCalls(yes) |                        0.1185 |\n",
            "+-------------+--------------------+-------------------------------+\n",
            "| Burglary(1) | NeighborCalls(no)  |                        0.1169 |\n",
            "+-------------+--------------------+-------------------------------+\n",
            "| Burglary(1) | NeighborCalls(yes) |                        0.1831 |\n",
            "+-------------+--------------------+-------------------------------+\n"
          ]
        }
      ]
    },
    {
      "cell_type": "code",
      "source": [
        "# Computing the probability of a Burglary given NeighborCalls=\"yes\".\n",
        "q=alarm_infer.query(variables=[\"Burglary\"], evidence={\"NeighborCalls\": \"yes\"})\n",
        "print(q)"
      ],
      "metadata": {
        "colab": {
          "base_uri": "https://localhost:8080/"
        },
        "id": "Nbo2kV8FoF6b",
        "outputId": "a64d5752-b157-417a-be70-417ad9e4b12a"
      },
      "execution_count": null,
      "outputs": [
        {
          "output_type": "stream",
          "name": "stdout",
          "text": [
            "+-------------+-----------------+\n",
            "| Burglary    |   phi(Burglary) |\n",
            "+=============+=================+\n",
            "| Burglary(0) |          0.3929 |\n",
            "+-------------+-----------------+\n",
            "| Burglary(1) |          0.6071 |\n",
            "+-------------+-----------------+\n"
          ]
        }
      ]
    },
    {
      "cell_type": "code",
      "source": [
        "# Computing the probability of a NeighborCalls  given Burglary=True.\n",
        "q=alarm_infer.query(variables=[\"NeighborCalls\"], evidence={\"Burglary\": True})\n",
        "print(q)"
      ],
      "metadata": {
        "colab": {
          "base_uri": "https://localhost:8080/"
        },
        "id": "N0XixQI-uoP2",
        "outputId": "05989e49-bc20-42b6-fec2-bbc85a45b8db"
      },
      "execution_count": null,
      "outputs": [
        {
          "output_type": "stream",
          "name": "stdout",
          "text": [
            "+--------------------+----------------------+\n",
            "| NeighborCalls      |   phi(NeighborCalls) |\n",
            "+====================+======================+\n",
            "| NeighborCalls(no)  |               0.3897 |\n",
            "+--------------------+----------------------+\n",
            "| NeighborCalls(yes) |               0.6103 |\n",
            "+--------------------+----------------------+\n"
          ]
        }
      ]
    },
    {
      "cell_type": "code",
      "source": [
        "jt = alarm_model.to_junction_tree()\n",
        "print(jt)\n",
        "alarm_jt_infer = VariableElimination(jt)\n",
        "\n",
        "q=alarm_jt_infer.query(variables=[\"Burglary\"], evidence={\"NeighborCalls\": \"yes\"})\n",
        "print(q)"
      ],
      "metadata": {
        "colab": {
          "base_uri": "https://localhost:8080/"
        },
        "id": "JgJn8HbUly1-",
        "outputId": "8fee2e8d-f16f-4190-c823-02d30951a1ab"
      },
      "execution_count": null,
      "outputs": [
        {
          "output_type": "stream",
          "name": "stdout",
          "text": [
            "JunctionTree with 2 nodes and 1 edges\n",
            "+-------------+-----------------+\n",
            "| Burglary    |   phi(Burglary) |\n",
            "+=============+=================+\n",
            "| Burglary(0) |          0.3929 |\n",
            "+-------------+-----------------+\n",
            "| Burglary(1) |          0.6071 |\n",
            "+-------------+-----------------+\n"
          ]
        }
      ]
    }
  ]
}